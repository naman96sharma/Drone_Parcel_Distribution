{
 "cells": [
  {
   "cell_type": "markdown",
   "metadata": {},
   "source": [
    "# Indexing\n",
    "This jupyter notebook deals with comparing different data structures for the purpose of keeping a database of locations that can be serviced by the drones. For quality of service, it is required that the time taken to search a zone from a pre-exisitng database be minimum."
   ]
  },
  {
   "cell_type": "code",
   "execution_count": 20,
   "metadata": {},
   "outputs": [],
   "source": [
    "import random\n",
    "import time\n",
    "\n",
    "#generate random words of length n\n",
    "def generate_name(n):\n",
    "    name = \"\"\n",
    "    for i in range(n):\n",
    "        name += chr(random.randint(97,122))\n",
    "    return name\n",
    "\n",
    "#generate database of N words\n",
    "def generate_database(N):\n",
    "    database = []\n",
    "    for i in range(N):\n",
    "        database.append(generate_name(random.randint(4,8)))\n",
    "    return database"
   ]
  },
  {
   "cell_type": "code",
   "execution_count": 21,
   "metadata": {},
   "outputs": [
    {
     "data": {
      "text/plain": [
       "['nitc', 'evqaqo', 'bptkcpiv', 'krbfec', 'fuymvku']"
      ]
     },
     "execution_count": 21,
     "metadata": {},
     "output_type": "execute_result"
    }
   ],
   "source": [
    "generate_database(5)"
   ]
  },
  {
   "cell_type": "markdown",
   "metadata": {},
   "source": [
    "## Naive approach: $\\mathcal{O}(n)$"
   ]
  },
  {
   "cell_type": "code",
   "execution_count": 22,
   "metadata": {},
   "outputs": [],
   "source": [
    "def search(database, name):\n",
    "    for element in database:\n",
    "        if name == element:\n",
    "            return True\n",
    "    return False"
   ]
  },
  {
   "cell_type": "code",
   "execution_count": 23,
   "metadata": {},
   "outputs": [
    {
     "name": "stdout",
     "output_type": "stream",
     "text": [
      "For N =  10 , total time: 0.0036000001430511477 milliseconds,  False\n",
      "For N =  100 , total time: 0.0085 milliseconds,  False\n",
      "For N =  1000 , total time: 0.0635 milliseconds,  False\n",
      "For N =  10000 , total time: 0.6264000000953674 milliseconds,  False\n",
      "For N =  100000 , total time: 5.644099999904633 milliseconds,  False\n",
      "For N =  1000000 , total time: 60.25349999976158 milliseconds,  False\n"
     ]
    }
   ],
   "source": [
    "def computeTime(func):\n",
    "    N = [10, 100, 1000, 10000, 100000, 1000000]\n",
    "    for i in N:\n",
    "        database = generate_database(i)\n",
    "        date_begin = time.perf_counter()\n",
    "        isPresent = func(database, \"hello\")\n",
    "        date_end = time.perf_counter()\n",
    "        print(\"For N = \", i, \", total time:\", (date_end*1000000-date_begin*1000000)/1000, \"milliseconds, \", isPresent)\n",
    "    \n",
    "computeTime(search)"
   ]
  },
  {
   "cell_type": "markdown",
   "metadata": {},
   "source": [
    "## Binary search: $\\mathcal{O}(\\log n)$\n",
    "**Disadvantage:** Database needs to be sorted first. Assuming that the database is sorted, then:"
   ]
  },
  {
   "cell_type": "code",
   "execution_count": 24,
   "metadata": {},
   "outputs": [
    {
     "name": "stdout",
     "output_type": "stream",
     "text": [
      "For N =  10 , total time: 0.002799999952316284 milliseconds,  False\n",
      "For N =  100 , total time: 0.0027000002861022948 milliseconds,  False\n",
      "For N =  1000 , total time: 0.010600000143051147 milliseconds,  False\n",
      "For N =  10000 , total time: 0.014600000143051147 milliseconds,  False\n",
      "For N =  100000 , total time: 0.019700000286102293 milliseconds,  False\n",
      "For N =  1000000 , total time: 0.026799999952316283 milliseconds,  False\n"
     ]
    }
   ],
   "source": [
    "def search_binary(database, name):\n",
    "    start = 0\n",
    "    end = len(database)-1\n",
    "    while start <= end:\n",
    "        middle = (start+end)//2\n",
    "        if database[middle]==name:\n",
    "            return True\n",
    "        elif database[middle]>name:\n",
    "            end = middle - 1\n",
    "        else:\n",
    "            start = middle + 1\n",
    "    return False\n",
    "\n",
    "computeTime(search_binary)"
   ]
  },
  {
   "cell_type": "markdown",
   "metadata": {},
   "source": [
    "## Indexed data structure:\n",
    "Worst case complexity is $\\mathcal{O}(n)$, but for a balanced tree, the average time complexity would be $\\mathcal{O}(n)$. The advantage over the binary search is that the database does not need to be sorted."
   ]
  },
  {
   "cell_type": "code",
   "execution_count": 25,
   "metadata": {},
   "outputs": [],
   "source": [
    "def build_dict(database):\n",
    "    dictionary = {chr(i):[] for i in range(97,123)}\n",
    "    for name in database:\n",
    "        char = name[0]\n",
    "        dictionary[char].append(name)\n",
    "    return dictionary\n",
    "\n",
    "def search_dict(dictionary, name):\n",
    "    return search(dictionary[name[0]], name) #or search_binary(dictionary[name[0]], name) if names in dictionary are sorted"
   ]
  },
  {
   "cell_type": "code",
   "execution_count": 26,
   "metadata": {},
   "outputs": [
    {
     "name": "stdout",
     "output_type": "stream",
     "text": [
      "For N =  10 , total time: 0.004599999904632568 milliseconds,  False\n",
      "For N =  100 , total time: 0.005900000095367432 milliseconds,  False\n",
      "For N =  1000 , total time: 0.007100000143051148 milliseconds,  False\n",
      "For N =  10000 , total time: 0.033699999809265135 milliseconds,  False\n",
      "For N =  100000 , total time: 0.4119000000953674 milliseconds,  False\n",
      "For N =  1000000 , total time: 5.177799999952316 milliseconds,  False\n"
     ]
    }
   ],
   "source": [
    "def computeTime(func):\n",
    "    N = [10, 100, 1000, 10000, 100000, 1000000]\n",
    "    for i in N:\n",
    "        database = generate_database(i)\n",
    "        if func==search_dict:\n",
    "            database = build_dict(database)\n",
    "        date_begin = time.perf_counter()\n",
    "        isPresent = func(database, \"hello\")\n",
    "        date_end = time.perf_counter()\n",
    "        print(\"For N = \", i, \", total time:\", (date_end*1000000-date_begin*1000000)/1000, \"milliseconds, \", isPresent)\n",
    "    \n",
    "computeTime(search_dict)"
   ]
  },
  {
   "cell_type": "markdown",
   "metadata": {},
   "source": [
    "If we keep indexing the database into larger sets, for example sets of words beginning from 'aa','ab, ...  It would improve performance, but after a point of time the amount of improvement in the time complexity would not be worth the overhead required to convert the database into a dictionary or the amount of overhead it takes for a computer to build the dictionary in the first place."
   ]
  },
  {
   "cell_type": "markdown",
   "metadata": {},
   "source": [
    "## Tree data structure\n",
    "In this data structure, starting from the root, every branch is indexed by the first letter of a word. For example, all words beggining from the letter 'a' would be in the branch `a`. FOr the next $k$ levels, each branch is indexed by the $(k-1)^{th}$ letter of the word. Finally, each node of the tree are indicated with a booloean, which is `True` if and only if there exists a word starting from the root to that node.\n",
    "\n",
    "We implement this structure as follows:\n",
    "The structure is a list of two elements, the first the `True`/`False` value of that node and the second a dictionary where each key is the name of the next element and its value is a similar two element list.\n",
    "\n",
    "Example: For the words (in french) 'le','ces','cet','cette' we have the structure: `[False, {'c': [False, {'e': [True, {'t': [True, {'t': [False, {'e': [True, {}]}]}], 's': [True, {}]}]}]}]`\n",
    "\n",
    "The tree is initialized with the value `[False, {}]`\n"
   ]
  },
  {
   "cell_type": "code",
   "execution_count": 27,
   "metadata": {},
   "outputs": [],
   "source": [
    "def insert_tree(tree, word):\n",
    "    if len(word)==1 and word in tree[1]:\n",
    "        tree[1][word][0] = True\n",
    "    elif len(word)==1 and not word in tree[1]:\n",
    "        tree[1][word]=[True, {}]\n",
    "    else:\n",
    "        if not word[0] in tree[1]:\n",
    "            tree[1][word[0]]=[False, {}]\t\n",
    "        insert_tree(tree[1][word[0]], word[1:])\n",
    "\n",
    "def search_tree(tree, word):\n",
    "    if word[0] in tree[1]:\n",
    "        if len(word) == 1 and tree[1][word][0]:\n",
    "            return True\n",
    "        elif len(word) != 1:\n",
    "            return search_tree(tree[1][word[0]], word[1:])\n",
    "    return False"
   ]
  },
  {
   "cell_type": "code",
   "execution_count": 28,
   "metadata": {},
   "outputs": [
    {
     "name": "stdout",
     "output_type": "stream",
     "text": [
      "For N =  10 , total time: 0.0037000000476837156 milliseconds,  False\n",
      "For N =  100 , total time: 0.0033999998569488525 milliseconds,  False\n",
      "For N =  1000 , total time: 0.007099999904632569 milliseconds,  False\n",
      "For N =  10000 , total time: 0.0065 milliseconds,  False\n",
      "For N =  100000 , total time: 0.009700000047683717 milliseconds,  False\n",
      "For N =  1000000 , total time: 0.03339999985694885 milliseconds,  False\n"
     ]
    }
   ],
   "source": [
    "def computeTime(func):\n",
    "    N = [10, 100, 1000, 10000, 100000, 1000000]\n",
    "    for i in N:\n",
    "        database = generate_database(i)\n",
    "        if func == search_dict:\n",
    "            database = build_dict(database)\n",
    "        if func == search_tree:\n",
    "            tree = [False, {}]\n",
    "            for word in database:\n",
    "                insert_tree(tree, word)\n",
    "            database = tree\n",
    "        date_begin = time.perf_counter()\n",
    "        isPresent = func(database, \"hello\")\n",
    "        date_end = time.perf_counter()\n",
    "        print(\"For N = \", i, \", total time:\", (date_end*1000000-date_begin*1000000)/1000, \"milliseconds, \", isPresent)\n",
    "    \n",
    "computeTime(search_tree)"
   ]
  },
  {
   "cell_type": "markdown",
   "metadata": {},
   "source": [
    "## Indexing on multiple letters\n",
    "Up till now, we have been searching for words in a database. However, if we were to change the question to \"Which words in the database start with the letters xyz?\" then it would be difficult to answer this question based on the above approaches.\n",
    "\n",
    "Below, we define a new data structure which can help in answering this question. This datastructure is called a [trie](https://en.wikipedia.org/wiki/Trie). This implementation is taken from [towardsdatascience](https://towardsdatascience.com/implementing-a-trie-data-structure-in-python-in-less-than-100-lies-of-code-a877ea23c1a1). The only change involves keeping a set of words for each node which tells us the words inand below that node."
   ]
  },
  {
   "cell_type": "code",
   "execution_count": 29,
   "metadata": {},
   "outputs": [],
   "source": [
    "# simple method to find which words contains the letter 'x'\n",
    "def dictContainsX(database):\n",
    "    dictionary = {chr(i):set() for i in range(97,123)} # use set to avoid repitition\n",
    "    for name in database:\n",
    "        for letter in name:\n",
    "            if not name in dictionary[letter]:\n",
    "                dictionary[letter].add(name)\n",
    "    return dictionary"
   ]
  },
  {
   "cell_type": "code",
   "execution_count": 30,
   "metadata": {},
   "outputs": [],
   "source": [
    "class TrieNode():\n",
    "    def __init__(self, char: str):\n",
    "        self.char = char\n",
    "        self.children = []   # child nodes\n",
    "        self.word_end = False    # if the word ends at this node\n",
    "        self.words = set() # words in and below this node\n",
    "        \n",
    "def add(root, word: str):\n",
    "    node = root\n",
    "    for char in word:\n",
    "        found = False\n",
    "        for child in node.children:\n",
    "            if child.char == char:\n",
    "                child.words.add(word)\n",
    "                node = child\n",
    "                found = True\n",
    "                break\n",
    "                \n",
    "        if not found:\n",
    "            new_node = TrieNode(char)\n",
    "            new_node.words.add(word)\n",
    "            node.children.append(new_node)\n",
    "            node = new_node\n",
    "            \n",
    "    node.word_end = True\n",
    "\n",
    "def find_prefix(root, prefix: str):\n",
    "    node = root\n",
    "    \n",
    "    if not root.children:\n",
    "        return False, set()\n",
    "    for char in prefix:\n",
    "        char_not_found = True\n",
    "        for child in node.children:\n",
    "            if child.char == char:\n",
    "                char_not_found = False\n",
    "                node = child\n",
    "                break\n",
    "        if char_not_found:\n",
    "            return False, set()\n",
    "    return True, node.words"
   ]
  },
  {
   "cell_type": "code",
   "execution_count": 31,
   "metadata": {},
   "outputs": [],
   "source": [
    "root = TrieNode('*')\n",
    "database = generate_database(100)\n",
    "for word in database:\n",
    "    add(root, word)"
   ]
  },
  {
   "cell_type": "code",
   "execution_count": 32,
   "metadata": {},
   "outputs": [
    {
     "name": "stdout",
     "output_type": "stream",
     "text": [
      "total words:  100\n"
     ]
    }
   ],
   "source": [
    "total = 0\n",
    "for c in range(97,123):\n",
    "    _, set_c = find_prefix(root, chr(c))\n",
    "    total += len(set_c)\n",
    "print('total words: ', total)"
   ]
  }
 ],
 "metadata": {
  "kernelspec": {
   "display_name": "Python 3",
   "language": "python",
   "name": "python3"
  },
  "language_info": {
   "codemirror_mode": {
    "name": "ipython",
    "version": 3
   },
   "file_extension": ".py",
   "mimetype": "text/x-python",
   "name": "python",
   "nbconvert_exporter": "python",
   "pygments_lexer": "ipython3",
   "version": "3.7.3"
  }
 },
 "nbformat": 4,
 "nbformat_minor": 2
}
