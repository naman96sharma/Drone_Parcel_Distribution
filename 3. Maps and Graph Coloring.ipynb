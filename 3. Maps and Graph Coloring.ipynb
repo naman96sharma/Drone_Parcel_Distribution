{
 "cells": [
  {
   "cell_type": "markdown",
   "metadata": {},
   "source": [
    "# 3. Maps and Graph Coloring\n",
    "This jupyter notebook explores the problem of graph coloring, which will help us to define the frequencies to be used for communication in eahc zone, ensuring that no two zones sharing a boundary have the same frequency for communication. This corresponds to the coloring problem: given a graph, is it posible to color each node in a color such that no two neighboring nodes share the same color. What is the minimum number of colors required to achieve this? This is a NP-difficult problem.\n",
    "\n",
    "We reutilize the Voronoi diagram functions that we worked on in notebook 2. We will import the same functions from `voronoi.py`. This script also contains two voronoi diagrams pre-defined: `voronoi_diagram` and `voronoi_diagram_complete`."
   ]
  },
  {
   "cell_type": "code",
   "execution_count": 1,
   "metadata": {},
   "outputs": [],
   "source": [
    "from voronoi import *\n",
    "import tkinter as tk"
   ]
  },
  {
   "cell_type": "code",
   "execution_count": 2,
   "metadata": {},
   "outputs": [],
   "source": [
    "window = tk.Tk()\n",
    "canvas = tk.Canvas(window, width=700, height=700)\n",
    "draw_cartesian(canvas)\n",
    "draw_voronoi(canvas, voronoi_diagram)\n",
    "canvas.pack()\n",
    "window.mainloop()"
   ]
  },
  {
   "cell_type": "markdown",
   "metadata": {},
   "source": [
    "The partial and complete voronoi diagrams are shown below:\n",
    "![Partial and Complete Voronoi Diagram](images/partial_complete_voronoi.jpg)\n",
    "\n",
    "Let's first try and color the voronoi diagram with random colors."
   ]
  },
  {
   "cell_type": "code",
   "execution_count": 3,
   "metadata": {},
   "outputs": [],
   "source": [
    "def random_coloring(n, voronoi):\n",
    "    color = []\n",
    "    for i in range(0,len(voronoi)):\n",
    "        color.append(random.randint(0,n))\n",
    "    return color\n",
    "\n",
    "def int2col(n):\n",
    "    colors = [\"red\", \"blue\", \"green\", \"purple\", \"yellow\", \"lightblue\", \"brown\", \"cyan\", \"magenta\", \"orange\", \"lightgreen\", \"gray\"]\n",
    "    return colors[n]\n",
    "\n",
    "def draw_polygon_colored(canvas, polygon, color):\n",
    "    py_points = []\n",
    "    while len(polygon) != 0:\n",
    "        p = canvas_point(polygon.pop(0))\n",
    "        py_points.append(p)\n",
    "    canvas.create_polygon(py_points, fill=int2col(color))\n",
    "    for i in range(len(py_points)):\n",
    "        p=i%len(py_points)\n",
    "        pnext=(i+1)%len(py_points)\n",
    "        canvas.create_line(py_points[p],py_points[pnext],fill=\"black\")\n",
    "\n",
    "def draw_voronoi_colored(canvas, diagram, colors):\n",
    "    n=0\n",
    "    for i in diagram:\n",
    "        if len(i[1])>=3:\n",
    "            draw_polygon_colored(canvas,tri_polygone(i[1]),colors[n])\n",
    "        canvas.create_text(canvas_point(i[0]),text='p'+str(n))\n",
    "        n+=1"
   ]
  },
  {
   "cell_type": "code",
   "execution_count": 4,
   "metadata": {},
   "outputs": [],
   "source": [
    "window = tk.Tk()\n",
    "canvas = tk.Canvas(window, width=700, height=700)\n",
    "\n",
    "draw_cartesian(canvas)\n",
    "\n",
    "canvas.pack()\n",
    "colors = random_coloring(5, voronoi_diagram_complete)\n",
    "draw_voronoi_colored(canvas, voronoi_diagram_complete, colors)\n",
    "window.mainloop()"
   ]
  },
  {
   "cell_type": "markdown",
   "metadata": {},
   "source": [
    "![Random coloring of voronoi diagram](images/random_color.jpg)\n",
    "\n",
    "We now try to find the neighboring cells of every cell in a voronoi diagram. The function `voronoi_neighboring()` below returns a list of neighbors where `neighbors[i]` are the indices of the `i`th cell's neighbors."
   ]
  },
  {
   "cell_type": "code",
   "execution_count": 5,
   "metadata": {},
   "outputs": [],
   "source": [
    "def voronoi_neighboring(voronoi):\n",
    "  adjList = [[] for i in range(0, len(voronoi))]\n",
    "  n=0\n",
    "  for cell in voronoi:\n",
    "      m=0\n",
    "      for otherCell in voronoi:\n",
    "          c=0\n",
    "          if cell!=otherCell:\n",
    "              for point1 in cell[1]:\n",
    "                  for point2 in otherCell[1]:\n",
    "                      if same_point(point1,point2) and c==0:\n",
    "                          adjList[n].append(m)\n",
    "                          c+=1\n",
    "          m+=1\n",
    "      n+=1\n",
    "  return(adjList)"
   ]
  },
  {
   "cell_type": "code",
   "execution_count": 6,
   "metadata": {},
   "outputs": [
    {
     "name": "stdout",
     "output_type": "stream",
     "text": [
      "[[12, 13, 19], [], [], [], [], [], [], [], [], [15, 17], [], [], [0, 13, 15, 17], [0, 12, 19], [], [9, 12, 17], [], [9, 12, 15], [], [0, 13]]\n"
     ]
    }
   ],
   "source": [
    "out = voronoi_neighboring(voronoi_diagram)\n",
    "print(out)"
   ]
  },
  {
   "cell_type": "markdown",
   "metadata": {},
   "source": [
    "## Greedy coloring approach\n",
    "First, we try a greedy coloring approach, where we first select one color, and then continue to color as many cells as we can using that color without violating the requirements. Once we have colored all the cells we could, we choose a new color and continue in a similar manner."
   ]
  },
  {
   "cell_type": "code",
   "execution_count": 7,
   "metadata": {},
   "outputs": [],
   "source": [
    "def greedy_coloring(adjlist):\n",
    "    colors=[ 0 for i in range(len(adjlist))]\n",
    "    colors[0]=1\n",
    "    i=1\n",
    "    while i < len(adjlist):\n",
    "        if len(adjlist[i])>0: \n",
    "            neighcolor=[]\n",
    "            for j in range(len(adjlist[i])):\n",
    "                neighcolor.append(colors[adjlist[i][j]])\n",
    "            for k in range(1,9):\n",
    "                if k not in neighcolor:\n",
    "                    colors[i] = k\n",
    "                    break\n",
    "        i += 1\n",
    "    return colors"
   ]
  },
  {
   "cell_type": "code",
   "execution_count": 8,
   "metadata": {},
   "outputs": [],
   "source": [
    "window = tk.Tk()\n",
    "canvas = tk.Canvas(window, width=700, height=700)\n",
    "\n",
    "draw_cartesian(canvas)\n",
    "\n",
    "canvas.pack()\n",
    "adj = voronoi_neighboring(voronoi_diagram_complete)\n",
    "colors = greedy_coloring(adj)\n",
    "draw_voronoi_colored(canvas, voronoi_diagram_complete, colors)\n",
    "window.mainloop()"
   ]
  },
  {
   "cell_type": "markdown",
   "metadata": {},
   "source": [
    "![Result of greedy coloring on partial and complete voronoi diagrams](images\\partial_complete_greedy.jpg)\n",
    "\n",
    "We see that for the greedy approach, 5 colors are required to fill all the cells in the `voronoi_diagram_complete`, and 4 colors are required for the `voronoi_diagram`.\n",
    "\n",
    "This greedy appraoch can be imporved upon by simply sorting the order in which the greedy algorithm visits nodes. A **perfectly orderable graph** ([Wiki](https://en.wikipedia.org/wiki/Perfectly_orderable_graph)) is one whose vertices can be ordered in a manner such that a greedy algorithm following such an order would optimally color every *induced subgraph*. Since we do not know this 'perfect ordering', we can try some simple approached. The function `sort_decreasing_degree()` below sorts the nodes in decreasing order of the degree of its vertices."
   ]
  },
  {
   "cell_type": "code",
   "execution_count": 9,
   "metadata": {},
   "outputs": [],
   "source": [
    "def sort_decreasing_degree(graph):\n",
    "    listToSort = []\n",
    "    i=0\n",
    "    for cell in graph:\n",
    "        listToSort.append((len(cell[1]),i))\n",
    "        i+=1\n",
    "    L=sorted(listToSort, reverse=1)\n",
    "    sortedlist=[]\n",
    "    for i in range(len(L)):\n",
    "        sortedlist.append(L[i][1])\n",
    "    return(sortedlist)\n",
    "\n",
    "def sort_greedy_coloring(adjlist,lst):\n",
    "    colors=[ 0 for i in range(len(adjlist))]\n",
    "    colors[lst[0]]=1\n",
    "    i=1\n",
    "    while i < len(adjlist):\n",
    "        if len(adjlist[lst[i]])>0: \n",
    "            neighcolor=[]\n",
    "            for j in range(len(adjlist[lst[i]])):               # colors of all the neigbours of i\n",
    "                neighcolor.append(colors[adjlist[lst[i]][j]])\n",
    "            for k in range(1,9):\n",
    "                if k not in neighcolor:\n",
    "                    colors[lst[i]] = k\n",
    "                    break\n",
    "        i += 1\n",
    "    return colors"
   ]
  },
  {
   "cell_type": "code",
   "execution_count": 10,
   "metadata": {},
   "outputs": [],
   "source": [
    "window = tk.Tk()\n",
    "canvas = tk.Canvas(window, width=700, height=700)\n",
    "\n",
    "draw_cartesian(canvas)\n",
    "\n",
    "canvas.pack()\n",
    "adj = voronoi_neighboring(voronoi_diagram_complete)\n",
    "lst = sort_decreasing_degree(voronoi_diagram_complete)\n",
    "colors =sort_greedy_coloring(adj,lst)\n",
    "draw_voronoi_colored(canvas, voronoi_diagram_complete, colors)\n",
    "window.mainloop()"
   ]
  },
  {
   "cell_type": "markdown",
   "metadata": {},
   "source": [
    "![REsults of applying sorted greedy coloring on both voronoi diagrams](images/par_com_sortedGreedy.jpg)\n",
    "We see that the `voronoi_diagram_complete` still requires 5 colors to be completely filled. However, for the `voronoi_diagram` the number of colors has reduced to 3 (earlier it was 4).\n",
    "\n",
    "We can implement other sorting algorithms, such as the DSATUR(Brelaz, 1979) which takes into account both the degree of the vertices and the degree of saturation of the vertices (DSAT) which signifies the number of colored vertices neighbouring a vertex. The DSATUR algorithm has 3 steps:\n",
    "1. Choose the vertex with the maximum DSAT. If there are multiple equally high DSATs, choose the one with the minimal degree\n",
    "2. Color this vertex with the smallest color possible\n",
    "3. If all vertices are colored, stop. Else, repeat."
   ]
  },
  {
   "cell_type": "code",
   "execution_count": 11,
   "metadata": {},
   "outputs": [],
   "source": [
    "def DSATUR_greedy_coloring(adjlist):\n",
    "    colors = [ None for i in range(len(adjlist))]\n",
    "    while None in colors:\n",
    "        DSAT = []\n",
    "        maxDSAT = 0\n",
    "        for i in range(len(adjlist)):\n",
    "            if colors[i] is None:\n",
    "                neighbors = adjlist[i]\n",
    "                value = 0\n",
    "                for neigh in neighbors:\n",
    "                    if not colors[neigh] is None:\n",
    "                        value += 1\n",
    "                if value > maxDSAT:\n",
    "                    DSAT = [i]\n",
    "                    maxDSAT = value\n",
    "                elif value == maxDSAT:\n",
    "                    DSAT.append(i)\n",
    "        maxDegree = 0\n",
    "        valMaxDegree = 0\n",
    "        for i in DSAT:\n",
    "            if len(adjlist[i])>valMaxDegree:\n",
    "                maxDegree = i\n",
    "                valMaxDegree = len(adjlist[i])\n",
    "                \n",
    "        color = 0\n",
    "        neighbors = adjlist[maxDegree]\n",
    "        \n",
    "        while True:\n",
    "            isGood = True\n",
    "            for i in neighbors:\n",
    "                if not colors[i] is None:\n",
    "                    if color == colors[i]:\n",
    "                        isGood = False\n",
    "                        break\n",
    "                else:\n",
    "                    pass\n",
    "            if isGood:\n",
    "                colors[maxDegree] = color\n",
    "                break\n",
    "            color += 1\n",
    "    return colors"
   ]
  },
  {
   "cell_type": "code",
   "execution_count": 12,
   "metadata": {},
   "outputs": [],
   "source": [
    "window = tk.Tk()\n",
    "canvas = tk.Canvas(window, width=700, height=700)\n",
    "\n",
    "draw_cartesian(canvas)\n",
    "\n",
    "canvas.pack()\n",
    "adj = voronoi_neighboring(voronoi_diagram_complete)\n",
    "colors =DSATUR_greedy_coloring(adj)\n",
    "draw_voronoi_colored(canvas, voronoi_diagram_complete, colors)\n",
    "window.mainloop() "
   ]
  },
  {
   "cell_type": "markdown",
   "metadata": {},
   "source": [
    "![Results of DSATUR greedy coloring for the complete voronoi](images/colored_dsatur.jpg)\n",
    "This algorithm succeds in coloring the `voronoi_diagram_complete` in just 4 colors!\n",
    "NOTE: Do no run for `voronoi_diagram`. The algorithm requires that all germs have their cells defined."
   ]
  }
 ],
 "metadata": {
  "kernelspec": {
   "display_name": "Python 3",
   "language": "python",
   "name": "python3"
  },
  "language_info": {
   "codemirror_mode": {
    "name": "ipython",
    "version": 3
   },
   "file_extension": ".py",
   "mimetype": "text/x-python",
   "name": "python",
   "nbconvert_exporter": "python",
   "pygments_lexer": "ipython3",
   "version": "3.7.3"
  }
 },
 "nbformat": 4,
 "nbformat_minor": 2
}
