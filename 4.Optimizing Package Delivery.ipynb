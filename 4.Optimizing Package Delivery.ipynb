{
 "cells": [
  {
   "cell_type": "markdown",
   "metadata": {},
   "source": [
    "# Optimizing the Delivery of Packages\n",
    "This last jupyter notebook aims at finding the shortest paths between destinations of the devlivery drones. We want to minimize the time of flight of the drones, which is important becuase of the limited autonomy of the drones and their slow charging.\n",
    "\n",
    "If a drone begins at, for example, site 1, it is required to deliver packages to other destinations, and then return to the starting site 1. Each destination site needs to be visited exactly once and none can be skipped. The objective is to find the sequence of sites which being and end at site 1 such that the journey is minimized. This is essentially the **travelling salesman problem**, a well known NP-complete problem.\n",
    "\n",
    "## Preliminary Work\n",
    "The function `generate_map()` randomly places `N` sites on a 2D map of size $L_x\\times L_y$."
   ]
  },
  {
   "cell_type": "code",
   "execution_count": 1,
   "metadata": {},
   "outputs": [],
   "source": [
    "import random\n",
    "import tkinter as tk\n",
    "import sys\n",
    "import numpy as np\n",
    "import matplotlib.pyplot as plt\n",
    "import time\n",
    "import math"
   ]
  },
  {
   "cell_type": "code",
   "execution_count": 2,
   "metadata": {},
   "outputs": [
    {
     "name": "stdout",
     "output_type": "stream",
     "text": [
      "[(831, 75), (566, 103), (144, 307), (483, 179), (486, 269), (106, 453), (459, 384), (203, 389)]\n"
     ]
    }
   ],
   "source": [
    "def generate_map(Lx,Ly,N):\n",
    "    L=[]\n",
    "    while N>0:\n",
    "        T=[(random.randint(0,Lx),random.randint(0,Ly))]\n",
    "        if not T in L:\n",
    "            L+=T\n",
    "            N-=1\n",
    "    return(L)\n",
    "\n",
    "sites = generate_map(840, 480, 8)\n",
    "print(sites)"
   ]
  },
  {
   "cell_type": "code",
   "execution_count": 3,
   "metadata": {},
   "outputs": [],
   "source": [
    "def draw_map(sites,canvas):\n",
    "    for i in range(len(sites)-1):\n",
    "        canvas.create_line(sites[i],sites[i+1],fill=\"green\")\n",
    "        canvas.create_line(sites[i], (sites[i][0]+5, sites[i][1]+5),fill=\"black\",width=4)\n",
    "        \n",
    "    canvas.create_text(sites[0][0]+5, sites[0][1]+15, text=\"0\")\n",
    "    \n",
    "window = tk.Tk()\n",
    "canvas = tk.Canvas(window, width=860, height=500)\n",
    "draw_map(sites,canvas)\n",
    "canvas.pack()\n",
    "window.mainloop()"
   ]
  },
  {
   "cell_type": "markdown",
   "metadata": {},
   "source": [
    "![Randomly generated sites for a map](images/random_map.jpg)"
   ]
  },
  {
   "cell_type": "code",
   "execution_count": 4,
   "metadata": {},
   "outputs": [
    {
     "name": "stdout",
     "output_type": "stream",
     "text": [
      "2927\n"
     ]
    }
   ],
   "source": [
    "def distance(sites,i,j):\n",
    "    try:\n",
    "        return(round(((sites[j][0]-sites[i][0])**2+(sites[j][1]-sites[i][1])**2)**(1/2)))\n",
    "    except IndexError:\n",
    "        print(i, j)\n",
    "        print(sites)\n",
    "        raise Exception\n",
    "    \n",
    "def total_distance(parcours):\n",
    "    S=distance(parcours,0,-1)\n",
    "    for i in range(len(parcours)-1):\n",
    "        S+=distance(parcours,i,i+1)\n",
    "    return(S)\n",
    "\n",
    "print(total_distance(sites))"
   ]
  },
  {
   "cell_type": "markdown",
   "metadata": {},
   "source": [
    "## Greedy Algorithm - Nearest Neighbor Heuristic\n",
    "The greedy algorithm starts from the first site and for each of the $(N-1)$ iterations we fly tot he next nearest location, before finally returning back to the starting location."
   ]
  },
  {
   "cell_type": "code",
   "execution_count": 5,
   "metadata": {},
   "outputs": [
    {
     "name": "stdout",
     "output_type": "stream",
     "text": [
      "[[0, 266, 725, 363, 396, 818, 484, 702], [266, 0, 469, 113, 184, 578, 301, 462], [725, 469, 0, 362, 344, 151, 324, 101], [363, 113, 362, 0, 90, 466, 206, 350], [396, 184, 344, 90, 0, 422, 118, 307], [818, 578, 151, 466, 422, 0, 360, 116], [484, 301, 324, 206, 118, 360, 0, 256], [702, 462, 101, 350, 307, 116, 256, 0]]\n"
     ]
    }
   ],
   "source": [
    "def generate_distance_matrix(sites):\n",
    "    '''returns a matrix where M[i,j] is the distance between site i and j\n",
    "    '''\n",
    "    n=len(sites)\n",
    "    M=[ [0 for i in range(n)] for j in range(n)]\n",
    "    for i in range(n):\n",
    "        for j in range(i):\n",
    "            d=distance(sites,i,j)\n",
    "            M[i][j]=d\n",
    "            M[j][i]=d\n",
    "    return(M)\n",
    "\n",
    "print(generate_distance_matrix(sites))"
   ]
  },
  {
   "cell_type": "code",
   "execution_count": 6,
   "metadata": {},
   "outputs": [],
   "source": [
    "def nearest_neighbor(sites):\n",
    "    M=generate_distance_matrix(sites)\n",
    "    n=len(M[0])\n",
    "    L=[sites[0]]\n",
    "    current=0\n",
    "    \n",
    "    while len(L)<len(sites):\n",
    "        \n",
    "        for i in range(n):              # on in terdit que le plus proche voisin soit current\n",
    "            M[i][current]=sys.maxsize\n",
    "        \n",
    "        nextindex=M[current].index(min(M[current]))\n",
    "        L+=[sites[nextindex]]\n",
    "            \n",
    "        current=nextindex\n",
    "    return(L)\n",
    "    \n",
    "window = tk.Tk()\n",
    "canvas = tk.Canvas(window, width=860, height=500)\n",
    "draw_map(nearest_neighbor(sites),canvas)\n",
    "canvas.pack()\n",
    "window.mainloop()"
   ]
  },
  {
   "cell_type": "markdown",
   "metadata": {},
   "source": [
    "![Greedy algorithm results](images/map_greedy.jpg)\n",
    "The complexity of the above algorithm is $\\mathcal{O}(n^2)$ where $n$ is the number of sites."
   ]
  },
  {
   "cell_type": "code",
   "execution_count": 7,
   "metadata": {},
   "outputs": [
    {
     "name": "stdout",
     "output_type": "stream",
     "text": [
      "Number of sites: 100 , Calculation time: 0.018966200000001265\n",
      "Number of sites: 125 , Calculation time: 0.01955149999999861\n",
      "Number of sites: 150 , Calculation time: 0.022667000000005544\n",
      "Number of sites: 175 , Calculation time: 0.028084399999997345\n",
      "Number of sites: 200 , Calculation time: 0.03800369999999731\n",
      "Number of sites: 225 , Calculation time: 0.04512799999999828\n",
      "Number of sites: 250 , Calculation time: 0.05273620000000534\n",
      "Number of sites: 275 , Calculation time: 0.0686370000000025\n",
      "Number of sites: 300 , Calculation time: 0.07606409999999642\n",
      "Number of sites: 325 , Calculation time: 0.09032039999999597\n",
      "Number of sites: 350 , Calculation time: 0.10669379999999506\n",
      "Number of sites: 375 , Calculation time: 0.11888340000000142\n",
      "Number of sites: 400 , Calculation time: 0.14402439999999928\n",
      "Number of sites: 425 , Calculation time: 0.14897210000000172\n",
      "Number of sites: 450 , Calculation time: 0.17764139999999884\n",
      "Number of sites: 475 , Calculation time: 0.18351279999999548\n"
     ]
    },
    {
     "data": {
      "image/png": "[encoded data removed]",
      "text/plain": [
       "<Figure size 432x288 with 1 Axes>"
      ]
     },
     "metadata": {
      "needs_background": "light"
     },
     "output_type": "display_data"
    }
   ],
   "source": [
    "N_list = np.arange(100,500,25)\n",
    "Time_list = []\n",
    "\n",
    "for N in N_list:\n",
    "   c = generate_map(840, 480, N)\n",
    "\n",
    "   ti = time.perf_counter()\n",
    "   nearest_neighbor(c)\n",
    "   ts = time.perf_counter()\n",
    "\n",
    "   print(\"Number of sites:\", N, \", Calculation time:\", ts - ti)\n",
    "   Time_list.append(math.log(ts - ti))\n",
    "\n",
    "#print N_list, time_list\n",
    "plt.xlabel('log(N)')\n",
    "plt.ylabel('log(T)')\n",
    "plt.plot(np.log(N_list), Time_list, 'r^')\n",
    "plt.show()"
   ]
  },
  {
   "cell_type": "markdown",
   "metadata": {},
   "source": [
    "The gradient of the above curve is approximately 2, which agrees with the complexity of $n^2$.\n",
    "\n",
    "## Exhaustive Search Algorithm\n",
    "A brute force method which goes through all possible paths and keeps the one which is the shortest. The complexity of such a algorithm would be $\\mathcal{O}(n!)$"
   ]
  },
  {
   "cell_type": "code",
   "execution_count": 8,
   "metadata": {},
   "outputs": [],
   "source": [
    "path_list = []\n",
    "\n",
    "def all_paths(start_path, remaining_sites):\n",
    "    if len(remaining_sites)==1:\n",
    "        global path_list\n",
    "        path_list+=[start_path + remaining_sites]\n",
    "        return\n",
    "    for site in range(len(remaining_sites)):\n",
    "        all_paths(start_path+[remaining_sites[site]], remaining_sites[:site]+remaining_sites[site+1:])\n",
    "        \n",
    "all_paths([], sites)\n",
    "# print(path_list)"
   ]
  },
  {
   "cell_type": "code",
   "execution_count": 9,
   "metadata": {},
   "outputs": [
    {
     "name": "stdout",
     "output_type": "stream",
     "text": [
      "[(831, 75), (566, 103), (483, 179), (144, 307), (106, 453), (203, 389), (459, 384), (486, 269)]\n"
     ]
    }
   ],
   "source": [
    "shortest = sys.maxsize\n",
    "\n",
    "def shortest_path(start_path, remaining_sites):\n",
    "    if len(remaining_sites)==1:\n",
    "        global path_list\n",
    "        global shortest\n",
    "        if(total_distance(start_path+remaining_sites) < shortest):\n",
    "            path_list=start_path + remaining_sites\n",
    "            shortest=total_distance(path_list)\n",
    "        return\n",
    "    for site in range(len(remaining_sites)):\n",
    "        shortest_path(start_path+[remaining_sites[site]], remaining_sites[:site]+remaining_sites[site+1:])\n",
    "\n",
    "def brute_force(sites):\n",
    "    shortest_path([], sites)\n",
    "    return(path_list)\n",
    "\n",
    "print(brute_force(sites))\n",
    "window = tk.Tk()\n",
    "canvas = tk.Canvas(window, width=860, height=500)\n",
    "draw_map(brute_force(sites),canvas)\n",
    "canvas.pack()\n",
    "window.mainloop()"
   ]
  },
  {
   "cell_type": "markdown",
   "metadata": {},
   "source": [
    "![best path from exhaustive search](images/best_path.jpg)"
   ]
  },
  {
   "cell_type": "code",
   "execution_count": 10,
   "metadata": {},
   "outputs": [
    {
     "name": "stdout",
     "output_type": "stream",
     "text": [
      "Number of sites: 5 , calculation time: 0.0021205000000037444\n",
      "Number of sites: 6 , calculation time: 0.014943700000003446\n",
      "Number of sites: 7 , calculation time: 0.06718379999999513\n",
      "Number of sites: 8 , calculation time: 0.47264979999999923\n",
      "Number of sites: 9 , calculation time: 4.462043000000008\n",
      "Number of sites: 10 , calculation time: 54.167457799999994\n"
     ]
    },
    {
     "data": {
      "image/png": "[encoded data removed]",
      "text/plain": [
       "<Figure size 432x288 with 1 Axes>"
      ]
     },
     "metadata": {
      "needs_background": "light"
     },
     "output_type": "display_data"
    }
   ],
   "source": [
    "N_list = [5,6,7,8,9,10]\n",
    "Time_list = []\n",
    "\n",
    "for N in N_list:\n",
    "   c = generate_map(840, 480, N)\n",
    "\n",
    "   ti = time.perf_counter()\n",
    "   brute_force(c)\n",
    "   ts = time.perf_counter()\n",
    "\n",
    "   print(\"Number of sites:\", N, \", calculation time:\", ts - ti)\n",
    "   Time_list.append(math.log(ts - ti))\n",
    "\n",
    "#print N_list, time_list\n",
    "plt.xlabel('log(N)')\n",
    "plt.ylabel('log(T)')\n",
    "plt.plot(np.log(N_list), Time_list, 'r^')\n",
    "plt.show()"
   ]
  },
  {
   "cell_type": "markdown",
   "metadata": {},
   "source": [
    "## Branch and Bound Algorithm\n",
    "Given the enormous time it takes to search all possible paths, the **branch and bound algorithm** aims to eliminate all the solutions that we known will be bad solutions. For a given map, we can calculate the minimum bound for all paths. We can consider the length of a path as the sum of the weights on each movement from site to site. If we take the 2 nearest neighbors for every site, then the average of these two distances forms the lower bound. We can be sure that the best path is atleast greater than this average. Mathematically, for each site $i$, we note $(a_i, b_i)$ the distances to two nearest neighbors and then calculate the sum $\\frac{1}{2}\\sum_i (a_i +b_i)$.\n",
    "\n",
    "Once we decide to go to a stop, this has a consequence on the inferior bound, and we recalculate this bound after each stop. The branch and bound algorithm will recursively explore the possible set of paths and save in memory the best path it encounters. As soon as a branch incurs a cost greater than the current best path, this branch is then abandoned, without going any further. As a result the algorithm does not explore any of the sub branches from that branch as it knows for sure that they will all be atleast the same bound.\n",
    "\n",
    "The `min_bound()` calculates the minimum bound for a given path."
   ]
  },
  {
   "cell_type": "code",
   "execution_count": 11,
   "metadata": {},
   "outputs": [],
   "source": [
    "def min_bound(start_path, remaining_sites):\n",
    "    min_bound = 0\n",
    "\n",
    "    remaining_sites_copy = remaining_sites[:]\n",
    "    remaining_sites_copy.append(start_path[0])\n",
    "    remaining_sites_copy.append(start_path[-1])\n",
    "    distance_matrix = generate_distance_matrix(remaining_sites_copy)\n",
    "\n",
    "    l = len(distance_matrix)\n",
    "    for i in range(l-2):                                # trouve les deux plus petites distances entre sites restants et sites restants bis\n",
    "        min1, min2 = sys.maxsize, sys.maxsize\n",
    "        for j in range(l):\n",
    "            if j != i:\n",
    "                distance_i_j = distance_matrix[i][j]\n",
    "                if distance_i_j <= min1:\n",
    "                    min2 = min1\n",
    "                    min1 = distance_i_j\n",
    "                elif distance_i_j < min2:\n",
    "                    min2 = distance_i_j\n",
    "        min_bound += min1 + min2\n",
    "\n",
    "    for i in range(l-2, l):                     # trouve la plus petite distance entre entame [0], [-1] et sites restants\n",
    "        min = sys.maxsize\n",
    "        for j in range(l-2):\n",
    "            distance_i_j = distance_matrix[i][j]\n",
    "            if distance_i_j < min:\n",
    "                min = distance_i_j\n",
    "        min_bound += min\n",
    "\n",
    "    for i in range(0,len(start_path)-1):               # trouve la distance totales des points déjà visités\n",
    "        min_bound += distance(start_path, i, i+1)\n",
    "    for i in range(1,len(start_path)):\n",
    "        min_bound += distance(start_path, i-1, i)\n",
    "\n",
    "    return math.ceil(min_bound/2)"
   ]
  },
  {
   "cell_type": "code",
   "execution_count": 12,
   "metadata": {},
   "outputs": [
    {
     "name": "stdout",
     "output_type": "stream",
     "text": [
      "20\n",
      "26\n"
     ]
    }
   ],
   "source": [
    "# illustrative example [a, b, c ,d ,e] centered around 'e'\n",
    "a, b, c, d, e = (3, 4), (6, 4), (9, 4), (3, 0), (0, 0)\n",
    "\n",
    "# we choose site (b,d)\n",
    "print(min_bound([b, d], [a, c, e])) # must be 20\n",
    "\n",
    "## choose a -> e -> c\n",
    "print(min_bound([a, e, c], [b, d])) # must be 26"
   ]
  },
  {
   "cell_type": "code",
   "execution_count": 13,
   "metadata": {},
   "outputs": [],
   "source": [
    "best_bound= sys.maxsize\n",
    "    \n",
    "def shortest_path_branch_bound(start_path, remaining_sites):\n",
    "    if len(remaining_sites)==1:\n",
    "        global path_list\n",
    "        path_list=start_path + remaining_sites\n",
    "        return\n",
    "    for site in range(len(remaining_sites)):\n",
    "        if(min_bound(start_path, remaining_sites) < best_bound):\n",
    "            shortest_path_branch_bound(start_path+[remaining_sites[site]], remaining_sites[:site]+remaining_sites[site+1:])\n",
    "\n",
    "def branch_bound(sites):\n",
    "    shortest_path_branch_bound([sites[0]], sites[1:])\n",
    "    return(path_list)"
   ]
  },
  {
   "cell_type": "code",
   "execution_count": 14,
   "metadata": {},
   "outputs": [
    {
     "name": "stdout",
     "output_type": "stream",
     "text": [
      "Brute Force:  2927 , Branch and Bound:  2927\n"
     ]
    }
   ],
   "source": [
    "shortest_bb = branch_bound(sites)\n",
    "window = tk.Tk()\n",
    "canvas = tk.Canvas(window, width=860, height=500)\n",
    "draw_map(shortest_bb, canvas)\n",
    "canvas.pack()\n",
    "window.mainloop()\n",
    "print(\"Brute Force: \", total_distance(brute_force(sites)), \", Branch and Bound: \", total_distance(shortest_bb))"
   ]
  },
  {
   "cell_type": "code",
   "execution_count": 15,
   "metadata": {},
   "outputs": [
    {
     "name": "stdout",
     "output_type": "stream",
     "text": [
      "OK\n",
      "OK\n",
      "OK\n",
      "OK\n"
     ]
    }
   ],
   "source": [
    "N_max = 7\n",
    "window = tk.Tk()\n",
    "canvas = tk.Canvas(window, width=860, height=500)\n",
    "\n",
    "for N in range(4, N_max+1):\n",
    "   c = generate_map(840, 480, N)\n",
    "   shortest1 = branch_bound(c)\n",
    "   shortest2 = brute_force(c)\n",
    "   if total_distance(shortest1) != total_distance(shortest2):\n",
    "       draw_map(shortest1, canvas)\n",
    "       draw_map(shortest2, canvas)\n",
    "       print(c)\n",
    "       break\n",
    "   else:\n",
    "       print('OK')\n",
    "\n",
    "canvas.pack()\n",
    "window.mainloop()"
   ]
  },
  {
   "cell_type": "code",
   "execution_count": 16,
   "metadata": {},
   "outputs": [
    {
     "name": "stdout",
     "output_type": "stream",
     "text": [
      "Number of sites: 5 , Calculation time: 0.0026585999999895193\n",
      "Number of sites: 6 , Calculation time: 0.008084200000013197\n",
      "Number of sites: 7 , Calculation time: 0.05076069999998367\n",
      "Number of sites: 8 , Calculation time: 0.29727969999999004\n",
      "Number of sites: 9 , Calculation time: 2.390601800000013\n",
      "Number of sites: 10 , Calculation time: 23.6946078\n"
     ]
    },
    {
     "data": {
      "image/png": "[encoded data removed]",
      "text/plain": [
       "<Figure size 432x288 with 1 Axes>"
      ]
     },
     "metadata": {
      "needs_background": "light"
     },
     "output_type": "display_data"
    }
   ],
   "source": [
    "N_list = [5,6,7,8,9,10]\n",
    "Time_list = []\n",
    "\n",
    "for N in N_list:\n",
    "   c = generate_map(840, 480, N)\n",
    "\n",
    "   ti = time.perf_counter()\n",
    "   branch_bound(c)\n",
    "   ts = time.perf_counter()\n",
    "\n",
    "   print(\"Number of sites:\", N, \", Calculation time:\", ts - ti)\n",
    "   Time_list.append(math.log(ts - ti))\n",
    "\n",
    "#print N_list, time_list\n",
    "plt.xlabel('log(N)')\n",
    "plt.ylabel('log(T)')\n",
    "plt.plot(np.log(N_list), Time_list, 'r^')\n",
    "plt.show()"
   ]
  },
  {
   "cell_type": "markdown",
   "metadata": {},
   "source": [
    "## Local Optimization Algorithm \"2-opt\"\n",
    "The local optimization algorithm **2-opt** allows us to improve the paths by deleting paths that cross each other. This is done by inversing the order of visiting these nodes.\n",
    "![2-opt algorithm](images/2opt.jpg)"
   ]
  },
  {
   "cell_type": "code",
   "execution_count": 17,
   "metadata": {},
   "outputs": [],
   "source": [
    "def two_opt(sites):\n",
    "    n = len(sites)\n",
    "    for i in range(n-3):\n",
    "        for j in range(i+2, n-1):\n",
    "            if (distance(sites, i, i+1) + distance(sites, j, j+1) > distance(sites, i, j) + distance(sites, i+1,j+1)):\n",
    "                L1=sites[:i+1]\n",
    "                L2=sites[i+1:j+1]\n",
    "                L2_inv=L2[::-1]\n",
    "                L3=sites[j+1:]\n",
    "                sites = L1 + L2_inv + L3\n",
    "    assert(n==len(sites)) # sanity check\n",
    "    return sites"
   ]
  },
  {
   "cell_type": "code",
   "execution_count": 18,
   "metadata": {},
   "outputs": [
    {
     "name": "stdout",
     "output_type": "stream",
     "text": [
      "For N: 5 , length of branch and bound: 1655 , length for two_opt: 1655\n",
      "For N: 6 , length of branch and bound: 1494 , length for two_opt: 1367\n",
      "For N: 7 , length of branch and bound: 1647 , length for two_opt: 1471\n",
      "For N: 8 , length of branch and bound: 2609 , length for two_opt: 1618\n",
      "For N: 9 , length of branch and bound: 3248 , length for two_opt: 2187\n",
      "For N: 10 , length of branch and bound: 2805 , length for two_opt: 2098\n",
      "For N: 11 , length of branch and bound: 4369 , length for two_opt: 2648\n"
     ]
    }
   ],
   "source": [
    "N_list = [5,6,7,8,9,10]\n",
    "for N in N_list:\n",
    "    c = generate_map(840, 480, N)\n",
    "    bb_length = total_distance(branch_bound(c))\n",
    "    to_length = total_distance(two_opt(c))\n",
    "    print(\"For N:\", N, \", length of branch and bound:\", bb_length, \", length for two_opt:\", to_length)"
   ]
  },
  {
   "cell_type": "code",
   "execution_count": 19,
   "metadata": {},
   "outputs": [
    {
     "name": "stdout",
     "output_type": "stream",
     "text": [
      "Nombre de sites: 5 , temps de calcul: 2.5899999968714837e-05\n",
      "Nombre de sites: 6 , temps de calcul: 4.8800000001847366e-05\n",
      "Nombre de sites: 7 , temps de calcul: 7.130000000188375e-05\n",
      "Nombre de sites: 8 , temps de calcul: 9.190000002945453e-05\n",
      "Nombre de sites: 9 , temps de calcul: 0.00012010000000373111\n",
      "Nombre de sites: 10 , temps de calcul: 0.0001527000000010048\n"
     ]
    },
    {
     "data": {
      "image/png": "[encoded data removed]",
      "text/plain": [
       "<Figure size 432x288 with 1 Axes>"
      ]
     },
     "metadata": {
      "needs_background": "light"
     },
     "output_type": "display_data"
    }
   ],
   "source": [
    "N_list = [5,6,7,8,9,10]\n",
    "Time_list = []\n",
    "\n",
    "for N in N_list:\n",
    "   c = generate_map(840, 480, N)\n",
    "\n",
    "   ti = time.perf_counter()\n",
    "   two_opt(c)\n",
    "   ts = time.perf_counter()\n",
    "\n",
    "   print(\"Nombre de sites:\", N, \", temps de calcul:\", ts - ti)\n",
    "   Time_list.append(math.log(ts - ti))\n",
    "\n",
    "#print N_list, time_list\n",
    "plt.xlabel('log(N)')\n",
    "plt.ylabel('log(T)')\n",
    "plt.plot(np.log(N_list), Time_list, 'r^')\n",
    "plt.show()"
   ]
  },
  {
   "cell_type": "code",
   "execution_count": null,
   "metadata": {},
   "outputs": [],
   "source": []
  }
 ],
 "metadata": {
  "kernelspec": {
   "display_name": "Python 3",
   "language": "python",
   "name": "python3"
  },
  "language_info": {
   "codemirror_mode": {
    "name": "ipython",
    "version": 3
   },
   "file_extension": ".py",
   "mimetype": "text/x-python",
   "name": "python",
   "nbconvert_exporter": "python",
   "pygments_lexer": "ipython3",
   "version": "3.7.3"
  }
 },
 "nbformat": 4,
 "nbformat_minor": 2
}
